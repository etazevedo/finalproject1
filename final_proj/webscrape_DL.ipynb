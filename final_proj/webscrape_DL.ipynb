{
 "cells": [
  {
   "cell_type": "code",
   "execution_count": 3,
   "id": "c1f2c2ae",
   "metadata": {},
   "outputs": [],
   "source": [
    "from bs4 import BeautifulSoup as soup\n",
    "import requests"
   ]
  },
  {
   "cell_type": "code",
   "execution_count": 5,
   "id": "28bd183d",
   "metadata": {},
   "outputs": [
    {
     "name": "stdout",
     "output_type": "stream",
     "text": [
      "<div id=\"viewport\">\n",
      " <div class=\"dados_da_imagem\">\n",
      "  <span>\n",
      "   DPI: 200x200\n",
      "  </span>\n",
      "  <span>\n",
      "   Largura: 2197 px\n",
      "  </span>\n",
      "  <span>\n",
      "   Altura: 3180 px\n",
      "  </span>\n",
      "  <span>\n",
      "   Largura: 27.93 cm\n",
      "  </span>\n",
      "  <span>\n",
      "   Altura: 40.42 cm\n",
      "  </span>\n",
      " </div>\n",
      " <img alt=\"05739.003.00365- pag.1\" class=\"pagina_img\" id=\"pagina_actual\" src=\"http://casacomum.org/aebdocs/05/05739/05739.003.00365/d2/05739.003.00365_p0001_id000648425_D2.jpg\" title=\"05739.003.00365 - pag.1\"/>\n",
      " <noscript>\n",
      "  <p>\n",
      "   <img alt=\"05739.003.00365- pag.1\" class=\"pagina_img\" id=\"pagina_actual_semScript\" src=\"http://casacomum.org/aebdocs/05/05739/05739.003.00365/d2/05739.003.00365_p0001_id000648425_D2.jpg\" title=\"05739.003.00365 - pag.1\"/>\n",
      "  </p>\n",
      " </noscript>\n",
      " <canvas id=\"canvas\">\n",
      " </canvas>\n",
      "</div>\n",
      "\n"
     ]
    }
   ],
   "source": [
    "URL = \"http://casacomum.org/cc/visualizador?pasta=05739.003.00365#!2\"\n",
    "page = requests.get(URL)\n",
    "\n",
    "soup = soup(page.content, \"html.parser\")\n",
    "\n",
    "results = soup.find(id=\"viewport\")\n",
    "\n",
    "print(results.prettify())"
   ]
  },
  {
   "cell_type": "code",
   "execution_count": 15,
   "id": "184d4382",
   "metadata": {},
   "outputs": [
    {
     "data": {
      "text/plain": [
       "[]"
      ]
     },
     "execution_count": 15,
     "metadata": {},
     "output_type": "execute_result"
    }
   ],
   "source": [
    "soup.find_all(\"src\", attrs={'class':'pagina_img'})\n",
    "\n"
   ]
  },
  {
   "cell_type": "code",
   "execution_count": null,
   "id": "92f233ad",
   "metadata": {},
   "outputs": [],
   "source": [
    "url = 'https://en.wikipedia.org/wiki/Évariste_Galois'\n",
    "\n",
    "response = requests.get(url)\n",
    "soup = BeautifulSoup(response.content)\n",
    "\n",
    "table = soup.find_all('table', attrs={'class':'infobox biography vcard'})\n",
    "table = table[0]\n",
    "\n",
    "catg_li = table.find_all('th', attrs={'class' : 'infobox-label'})\n",
    "bio_li = table.find_all('td', attrs={'class' : 'infobox-data'})\n",
    "\n",
    "catg_li\n",
    "bio_li\n",
    "\n",
    "catg = [catg.text for catg in catg_li]\n",
    "bio = [bio.text for bio in bio_li]\n",
    "\n",
    "display(catg)\n",
    "display(bio)\n",
    "\n",
    "dictionary = {key.replace(u'\\xa0', ' '): value.replace(u'\\xa0', ' ') for key, value in zip(catg, bio)}\n",
    "\n",
    "display(dictionary)"
   ]
  }
 ],
 "metadata": {
  "kernelspec": {
   "display_name": "Python 3 (ipykernel)",
   "language": "python",
   "name": "python3"
  },
  "language_info": {
   "codemirror_mode": {
    "name": "ipython",
    "version": 3
   },
   "file_extension": ".py",
   "mimetype": "text/x-python",
   "name": "python",
   "nbconvert_exporter": "python",
   "pygments_lexer": "ipython3",
   "version": "3.9.10"
  }
 },
 "nbformat": 4,
 "nbformat_minor": 5
}
